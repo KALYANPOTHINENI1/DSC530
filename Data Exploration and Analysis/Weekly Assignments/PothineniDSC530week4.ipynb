{
 "cells": [
  {
   "cell_type": "markdown",
   "id": "efda4fb1",
   "metadata": {},
   "source": [
    "# <center> Week - 4 Assignment\n",
    "\n",
    "<center> DSC-530\n",
    "\n",
    "<center> Kalyan Pothineni"
   ]
  },
  {
   "cell_type": "code",
   "execution_count": 1,
   "id": "dbd3e666",
   "metadata": {},
   "outputs": [],
   "source": [
    "# Retrieve the file from URL, add more files as needed down the line, better to group all the files which are been called\n",
    "\n",
    "from os.path import basename, exists\n",
    "\n",
    "def download(url):\n",
    "    filename = basename(url)\n",
    "    if not exists(filename):\n",
    "        from urllib.request import urlretrieve\n",
    "\n",
    "        local, _ = urlretrieve(url, filename)\n",
    "        print(\"Downloaded \" + local)\n",
    "\n",
    "download(\"https://github.com/AllenDowney/ThinkStats2/raw/master/code/thinkstats2.py\")\n",
    "download(\"https://github.com/AllenDowney/ThinkStats2/raw/master/code/thinkplot.py\")\n",
    "\n",
    "download(\"https://github.com/AllenDowney/ThinkStats2/raw/master/code/nsfg.py\")\n",
    "\n",
    "download(\"https://github.com/AllenDowney/ThinkStats2/raw/master/code/2002FemPreg.dct\")\n",
    "download(\"https://github.com/AllenDowney/ThinkStats2/raw/master/code/2002FemPreg.dat.gz\")\n",
    "\n",
    "download(\"https://github.com/AllenDowney/ThinkStats2/raw/master/code/2002FemResp.dct\")\n",
    "download(\"https://github.com/AllenDowney/ThinkStats2/raw/master/code/2002FemResp.dat.gz\")"
   ]
  },
  {
   "cell_type": "code",
   "execution_count": 2,
   "id": "c880670a",
   "metadata": {},
   "outputs": [],
   "source": [
    "# Importing the nsfg\n",
    "import nsfg"
   ]
  },
  {
   "cell_type": "markdown",
   "id": "cf247fb9",
   "metadata": {},
   "source": [
    "## Exercises 3-1"
   ]
  },
  {
   "cell_type": "code",
   "execution_count": 3,
   "id": "271ed7be",
   "metadata": {},
   "outputs": [],
   "source": [
    "# Import needed libraries thinkstats2, thinkplot and pandas\n",
    "import thinkstats2\n",
    "import thinkplot\n",
    "import pandas as pd"
   ]
  },
  {
   "cell_type": "code",
   "execution_count": 4,
   "id": "97b0ec20",
   "metadata": {
    "scrolled": false
   },
   "outputs": [
    {
     "data": {
      "text/html": [
       "<div>\n",
       "<style scoped>\n",
       "    .dataframe tbody tr th:only-of-type {\n",
       "        vertical-align: middle;\n",
       "    }\n",
       "\n",
       "    .dataframe tbody tr th {\n",
       "        vertical-align: top;\n",
       "    }\n",
       "\n",
       "    .dataframe thead th {\n",
       "        text-align: right;\n",
       "    }\n",
       "</style>\n",
       "<table border=\"1\" class=\"dataframe\">\n",
       "  <thead>\n",
       "    <tr style=\"text-align: right;\">\n",
       "      <th></th>\n",
       "      <th>caseid</th>\n",
       "      <th>rscrinf</th>\n",
       "      <th>rdormres</th>\n",
       "      <th>rostscrn</th>\n",
       "      <th>rscreenhisp</th>\n",
       "      <th>rscreenrace</th>\n",
       "      <th>age_a</th>\n",
       "      <th>age_r</th>\n",
       "      <th>cmbirth</th>\n",
       "      <th>agescrn</th>\n",
       "      <th>...</th>\n",
       "      <th>pubassis_i</th>\n",
       "      <th>basewgt</th>\n",
       "      <th>adj_mod_basewgt</th>\n",
       "      <th>finalwgt</th>\n",
       "      <th>secu_r</th>\n",
       "      <th>sest</th>\n",
       "      <th>cmintvw</th>\n",
       "      <th>cmlstyr</th>\n",
       "      <th>screentime</th>\n",
       "      <th>intvlngth</th>\n",
       "    </tr>\n",
       "  </thead>\n",
       "  <tbody>\n",
       "    <tr>\n",
       "      <th>0</th>\n",
       "      <td>2298</td>\n",
       "      <td>1</td>\n",
       "      <td>5</td>\n",
       "      <td>5</td>\n",
       "      <td>1</td>\n",
       "      <td>5.0</td>\n",
       "      <td>27</td>\n",
       "      <td>27</td>\n",
       "      <td>902</td>\n",
       "      <td>27</td>\n",
       "      <td>...</td>\n",
       "      <td>0</td>\n",
       "      <td>3247.916977</td>\n",
       "      <td>5123.759559</td>\n",
       "      <td>5556.717241</td>\n",
       "      <td>2</td>\n",
       "      <td>18</td>\n",
       "      <td>1234</td>\n",
       "      <td>1222</td>\n",
       "      <td>18:26:36</td>\n",
       "      <td>110.492667</td>\n",
       "    </tr>\n",
       "    <tr>\n",
       "      <th>1</th>\n",
       "      <td>5012</td>\n",
       "      <td>1</td>\n",
       "      <td>5</td>\n",
       "      <td>1</td>\n",
       "      <td>5</td>\n",
       "      <td>5.0</td>\n",
       "      <td>42</td>\n",
       "      <td>42</td>\n",
       "      <td>718</td>\n",
       "      <td>42</td>\n",
       "      <td>...</td>\n",
       "      <td>0</td>\n",
       "      <td>2335.279149</td>\n",
       "      <td>2846.799490</td>\n",
       "      <td>4744.191350</td>\n",
       "      <td>2</td>\n",
       "      <td>18</td>\n",
       "      <td>1233</td>\n",
       "      <td>1221</td>\n",
       "      <td>16:30:59</td>\n",
       "      <td>64.294000</td>\n",
       "    </tr>\n",
       "    <tr>\n",
       "      <th>2</th>\n",
       "      <td>11586</td>\n",
       "      <td>1</td>\n",
       "      <td>5</td>\n",
       "      <td>1</td>\n",
       "      <td>5</td>\n",
       "      <td>5.0</td>\n",
       "      <td>43</td>\n",
       "      <td>43</td>\n",
       "      <td>708</td>\n",
       "      <td>43</td>\n",
       "      <td>...</td>\n",
       "      <td>0</td>\n",
       "      <td>2335.279149</td>\n",
       "      <td>2846.799490</td>\n",
       "      <td>4744.191350</td>\n",
       "      <td>2</td>\n",
       "      <td>18</td>\n",
       "      <td>1234</td>\n",
       "      <td>1222</td>\n",
       "      <td>18:19:09</td>\n",
       "      <td>75.149167</td>\n",
       "    </tr>\n",
       "    <tr>\n",
       "      <th>3</th>\n",
       "      <td>6794</td>\n",
       "      <td>5</td>\n",
       "      <td>5</td>\n",
       "      <td>4</td>\n",
       "      <td>1</td>\n",
       "      <td>5.0</td>\n",
       "      <td>15</td>\n",
       "      <td>15</td>\n",
       "      <td>1042</td>\n",
       "      <td>15</td>\n",
       "      <td>...</td>\n",
       "      <td>0</td>\n",
       "      <td>3783.152221</td>\n",
       "      <td>5071.464231</td>\n",
       "      <td>5923.977368</td>\n",
       "      <td>2</td>\n",
       "      <td>18</td>\n",
       "      <td>1234</td>\n",
       "      <td>1222</td>\n",
       "      <td>15:54:43</td>\n",
       "      <td>28.642833</td>\n",
       "    </tr>\n",
       "    <tr>\n",
       "      <th>4</th>\n",
       "      <td>616</td>\n",
       "      <td>1</td>\n",
       "      <td>5</td>\n",
       "      <td>4</td>\n",
       "      <td>1</td>\n",
       "      <td>5.0</td>\n",
       "      <td>20</td>\n",
       "      <td>20</td>\n",
       "      <td>991</td>\n",
       "      <td>20</td>\n",
       "      <td>...</td>\n",
       "      <td>0</td>\n",
       "      <td>5341.329968</td>\n",
       "      <td>6437.335772</td>\n",
       "      <td>7229.128072</td>\n",
       "      <td>2</td>\n",
       "      <td>18</td>\n",
       "      <td>1233</td>\n",
       "      <td>1221</td>\n",
       "      <td>14:19:44</td>\n",
       "      <td>69.502667</td>\n",
       "    </tr>\n",
       "  </tbody>\n",
       "</table>\n",
       "<p>5 rows × 3087 columns</p>\n",
       "</div>"
      ],
      "text/plain": [
       "   caseid  rscrinf  rdormres  rostscrn  rscreenhisp  rscreenrace  age_a  \\\n",
       "0    2298        1         5         5            1          5.0     27   \n",
       "1    5012        1         5         1            5          5.0     42   \n",
       "2   11586        1         5         1            5          5.0     43   \n",
       "3    6794        5         5         4            1          5.0     15   \n",
       "4     616        1         5         4            1          5.0     20   \n",
       "\n",
       "   age_r  cmbirth  agescrn  ...  pubassis_i      basewgt  adj_mod_basewgt  \\\n",
       "0     27      902       27  ...           0  3247.916977      5123.759559   \n",
       "1     42      718       42  ...           0  2335.279149      2846.799490   \n",
       "2     43      708       43  ...           0  2335.279149      2846.799490   \n",
       "3     15     1042       15  ...           0  3783.152221      5071.464231   \n",
       "4     20      991       20  ...           0  5341.329968      6437.335772   \n",
       "\n",
       "      finalwgt  secu_r  sest  cmintvw  cmlstyr  screentime   intvlngth  \n",
       "0  5556.717241       2    18     1234     1222    18:26:36  110.492667  \n",
       "1  4744.191350       2    18     1233     1221    16:30:59   64.294000  \n",
       "2  4744.191350       2    18     1234     1222    18:19:09   75.149167  \n",
       "3  5923.977368       2    18     1234     1222    15:54:43   28.642833  \n",
       "4  7229.128072       2    18     1233     1221    14:19:44   69.502667  \n",
       "\n",
       "[5 rows x 3087 columns]"
      ]
     },
     "execution_count": 4,
     "metadata": {},
     "output_type": "execute_result"
    }
   ],
   "source": [
    "# Load the NSFG dataset\n",
    "resp = nsfg.ReadFemResp()\n",
    "resp.head()"
   ]
  },
  {
   "cell_type": "markdown",
   "id": "830c2666",
   "metadata": {},
   "source": [
    "The actual_dist variable represents the actual distribution of the number of children under 18 in a household, constructed using the thinkstats2.Pmf() function. We will use the resp.numkdhh column from the dataset as the input for this distribution."
   ]
  },
  {
   "cell_type": "code",
   "execution_count": 5,
   "id": "75957cc2",
   "metadata": {},
   "outputs": [],
   "source": [
    "# Compute the actual distribution\n",
    "actual_dist = thinkstats2.Pmf(resp.numkdhh, label='Actual')"
   ]
  },
  {
   "cell_type": "markdown",
   "id": "12100b71",
   "metadata": {},
   "source": [
    "To compute the biased distribution, we will create a copy of the actual distribution and multiply the probabilities by the corresponding number of children in each household. This is done in the for loop. Finally, we normalize the biased distribution using the Normalize() method."
   ]
  },
  {
   "cell_type": "code",
   "execution_count": 6,
   "id": "a73c6777",
   "metadata": {},
   "outputs": [],
   "source": [
    "# Compute the biased distribution\n",
    "biased_dist = actual_dist.Copy(label='Biased')"
   ]
  },
  {
   "cell_type": "code",
   "execution_count": 7,
   "id": "3546f780",
   "metadata": {},
   "outputs": [],
   "source": [
    "# Multiply the probabilities by the number of children in each household\n",
    "for x, p in actual_dist.Items():\n",
    "    biased_dist.Mult(x, x)"
   ]
  },
  {
   "cell_type": "code",
   "execution_count": 9,
   "id": "f535d8ef",
   "metadata": {},
   "outputs": [
    {
     "name": "stdout",
     "output_type": "stream",
     "text": [
      "Normalized biased distribution: 1.0\n"
     ]
    }
   ],
   "source": [
    "# Normalize the biased distribution\n",
    "normalized_biased = biased_dist.Normalize()\n",
    "print(\"Normalized biased distribution:\", normalized_biased)"
   ]
  },
  {
   "cell_type": "code",
   "execution_count": 10,
   "id": "f0f2cab1",
   "metadata": {},
   "outputs": [
    {
     "data": {
      "image/png": "[encoded data removed]",
      "text/plain": [
       "<Figure size 640x480 with 1 Axes>"
      ]
     },
     "metadata": {},
     "output_type": "display_data"
    }
   ],
   "source": [
    "# Plot the actual and biased distributions\n",
    "thinkplot.PrePlot(2)\n",
    "thinkplot.Pmfs([actual_dist, biased_dist])\n",
    "thinkplot.Config(xlabel='Number of children', ylabel='PMF')"
   ]
  },
  {
   "cell_type": "code",
   "execution_count": 11,
   "id": "addc4566",
   "metadata": {},
   "outputs": [],
   "source": [
    "# Compute the means\n",
    "actual_mean = actual_dist.Mean()\n",
    "biased_mean = biased_dist.Mean()"
   ]
  },
  {
   "cell_type": "code",
   "execution_count": 12,
   "id": "415dc0f3",
   "metadata": {},
   "outputs": [
    {
     "name": "stdout",
     "output_type": "stream",
     "text": [
      "Actual mean: 1.024205155043831\n",
      "Biased mean: 2.403679100664282\n"
     ]
    }
   ],
   "source": [
    "# Print the means\n",
    "print(\"Actual mean:\", actual_mean)\n",
    "print(\"Biased mean:\", biased_mean)"
   ]
  },
  {
   "cell_type": "markdown",
   "id": "8c883dd2",
   "metadata": {},
   "source": [
    "The normalized biased distribution reveals that, if we were to survey children and ask them how many children (including themselves) are in their household, the average number of children reported would be approximately 2.40. This value is higher than the actual mean of 1.02."
   ]
  },
  {
   "cell_type": "markdown",
   "id": "65a9086b",
   "metadata": {},
   "source": [
    "## Exercises 3-2"
   ]
  },
  {
   "cell_type": "code",
   "execution_count": 13,
   "id": "d21315b4",
   "metadata": {},
   "outputs": [],
   "source": [
    "# Import needed libraries thinkstats2 and pandas\n",
    "import thinkstats2\n",
    "import nsfg"
   ]
  },
  {
   "cell_type": "code",
   "execution_count": 14,
   "id": "7285cbd1",
   "metadata": {},
   "outputs": [],
   "source": [
    "def PmfMean(pmf):\n",
    "    \"\"\"Compute the mean of a PMF.\"\"\"\n",
    "    mean = 0\n",
    "    for value, prob in pmf.Items():\n",
    "        mean += value * prob\n",
    "    return mean"
   ]
  },
  {
   "cell_type": "code",
   "execution_count": 15,
   "id": "6f5bfbb8",
   "metadata": {},
   "outputs": [],
   "source": [
    "def PmfVar(pmf):\n",
    "    \"\"\"Compute the variance of a PMF.\"\"\"\n",
    "    mean = PmfMean(pmf)\n",
    "    variance = 0\n",
    "    for value, prob in pmf.Items():\n",
    "        variance += (value - mean)**2 * prob\n",
    "    return variance"
   ]
  },
  {
   "cell_type": "code",
   "execution_count": 16,
   "id": "5d591b79",
   "metadata": {},
   "outputs": [
    {
     "data": {
      "text/html": [
       "<div>\n",
       "<style scoped>\n",
       "    .dataframe tbody tr th:only-of-type {\n",
       "        vertical-align: middle;\n",
       "    }\n",
       "\n",
       "    .dataframe tbody tr th {\n",
       "        vertical-align: top;\n",
       "    }\n",
       "\n",
       "    .dataframe thead th {\n",
       "        text-align: right;\n",
       "    }\n",
       "</style>\n",
       "<table border=\"1\" class=\"dataframe\">\n",
       "  <thead>\n",
       "    <tr style=\"text-align: right;\">\n",
       "      <th></th>\n",
       "      <th>caseid</th>\n",
       "      <th>rscrinf</th>\n",
       "      <th>rdormres</th>\n",
       "      <th>rostscrn</th>\n",
       "      <th>rscreenhisp</th>\n",
       "      <th>rscreenrace</th>\n",
       "      <th>age_a</th>\n",
       "      <th>age_r</th>\n",
       "      <th>cmbirth</th>\n",
       "      <th>agescrn</th>\n",
       "      <th>...</th>\n",
       "      <th>pubassis_i</th>\n",
       "      <th>basewgt</th>\n",
       "      <th>adj_mod_basewgt</th>\n",
       "      <th>finalwgt</th>\n",
       "      <th>secu_r</th>\n",
       "      <th>sest</th>\n",
       "      <th>cmintvw</th>\n",
       "      <th>cmlstyr</th>\n",
       "      <th>screentime</th>\n",
       "      <th>intvlngth</th>\n",
       "    </tr>\n",
       "  </thead>\n",
       "  <tbody>\n",
       "    <tr>\n",
       "      <th>0</th>\n",
       "      <td>2298</td>\n",
       "      <td>1</td>\n",
       "      <td>5</td>\n",
       "      <td>5</td>\n",
       "      <td>1</td>\n",
       "      <td>5.0</td>\n",
       "      <td>27</td>\n",
       "      <td>27</td>\n",
       "      <td>902</td>\n",
       "      <td>27</td>\n",
       "      <td>...</td>\n",
       "      <td>0</td>\n",
       "      <td>3247.916977</td>\n",
       "      <td>5123.759559</td>\n",
       "      <td>5556.717241</td>\n",
       "      <td>2</td>\n",
       "      <td>18</td>\n",
       "      <td>1234</td>\n",
       "      <td>1222</td>\n",
       "      <td>18:26:36</td>\n",
       "      <td>110.492667</td>\n",
       "    </tr>\n",
       "    <tr>\n",
       "      <th>1</th>\n",
       "      <td>5012</td>\n",
       "      <td>1</td>\n",
       "      <td>5</td>\n",
       "      <td>1</td>\n",
       "      <td>5</td>\n",
       "      <td>5.0</td>\n",
       "      <td>42</td>\n",
       "      <td>42</td>\n",
       "      <td>718</td>\n",
       "      <td>42</td>\n",
       "      <td>...</td>\n",
       "      <td>0</td>\n",
       "      <td>2335.279149</td>\n",
       "      <td>2846.799490</td>\n",
       "      <td>4744.191350</td>\n",
       "      <td>2</td>\n",
       "      <td>18</td>\n",
       "      <td>1233</td>\n",
       "      <td>1221</td>\n",
       "      <td>16:30:59</td>\n",
       "      <td>64.294000</td>\n",
       "    </tr>\n",
       "    <tr>\n",
       "      <th>2</th>\n",
       "      <td>11586</td>\n",
       "      <td>1</td>\n",
       "      <td>5</td>\n",
       "      <td>1</td>\n",
       "      <td>5</td>\n",
       "      <td>5.0</td>\n",
       "      <td>43</td>\n",
       "      <td>43</td>\n",
       "      <td>708</td>\n",
       "      <td>43</td>\n",
       "      <td>...</td>\n",
       "      <td>0</td>\n",
       "      <td>2335.279149</td>\n",
       "      <td>2846.799490</td>\n",
       "      <td>4744.191350</td>\n",
       "      <td>2</td>\n",
       "      <td>18</td>\n",
       "      <td>1234</td>\n",
       "      <td>1222</td>\n",
       "      <td>18:19:09</td>\n",
       "      <td>75.149167</td>\n",
       "    </tr>\n",
       "    <tr>\n",
       "      <th>3</th>\n",
       "      <td>6794</td>\n",
       "      <td>5</td>\n",
       "      <td>5</td>\n",
       "      <td>4</td>\n",
       "      <td>1</td>\n",
       "      <td>5.0</td>\n",
       "      <td>15</td>\n",
       "      <td>15</td>\n",
       "      <td>1042</td>\n",
       "      <td>15</td>\n",
       "      <td>...</td>\n",
       "      <td>0</td>\n",
       "      <td>3783.152221</td>\n",
       "      <td>5071.464231</td>\n",
       "      <td>5923.977368</td>\n",
       "      <td>2</td>\n",
       "      <td>18</td>\n",
       "      <td>1234</td>\n",
       "      <td>1222</td>\n",
       "      <td>15:54:43</td>\n",
       "      <td>28.642833</td>\n",
       "    </tr>\n",
       "    <tr>\n",
       "      <th>4</th>\n",
       "      <td>616</td>\n",
       "      <td>1</td>\n",
       "      <td>5</td>\n",
       "      <td>4</td>\n",
       "      <td>1</td>\n",
       "      <td>5.0</td>\n",
       "      <td>20</td>\n",
       "      <td>20</td>\n",
       "      <td>991</td>\n",
       "      <td>20</td>\n",
       "      <td>...</td>\n",
       "      <td>0</td>\n",
       "      <td>5341.329968</td>\n",
       "      <td>6437.335772</td>\n",
       "      <td>7229.128072</td>\n",
       "      <td>2</td>\n",
       "      <td>18</td>\n",
       "      <td>1233</td>\n",
       "      <td>1221</td>\n",
       "      <td>14:19:44</td>\n",
       "      <td>69.502667</td>\n",
       "    </tr>\n",
       "  </tbody>\n",
       "</table>\n",
       "<p>5 rows × 3087 columns</p>\n",
       "</div>"
      ],
      "text/plain": [
       "   caseid  rscrinf  rdormres  rostscrn  rscreenhisp  rscreenrace  age_a  \\\n",
       "0    2298        1         5         5            1          5.0     27   \n",
       "1    5012        1         5         1            5          5.0     42   \n",
       "2   11586        1         5         1            5          5.0     43   \n",
       "3    6794        5         5         4            1          5.0     15   \n",
       "4     616        1         5         4            1          5.0     20   \n",
       "\n",
       "   age_r  cmbirth  agescrn  ...  pubassis_i      basewgt  adj_mod_basewgt  \\\n",
       "0     27      902       27  ...           0  3247.916977      5123.759559   \n",
       "1     42      718       42  ...           0  2335.279149      2846.799490   \n",
       "2     43      708       43  ...           0  2335.279149      2846.799490   \n",
       "3     15     1042       15  ...           0  3783.152221      5071.464231   \n",
       "4     20      991       20  ...           0  5341.329968      6437.335772   \n",
       "\n",
       "      finalwgt  secu_r  sest  cmintvw  cmlstyr  screentime   intvlngth  \n",
       "0  5556.717241       2    18     1234     1222    18:26:36  110.492667  \n",
       "1  4744.191350       2    18     1233     1221    16:30:59   64.294000  \n",
       "2  4744.191350       2    18     1234     1222    18:19:09   75.149167  \n",
       "3  5923.977368       2    18     1234     1222    15:54:43   28.642833  \n",
       "4  7229.128072       2    18     1233     1221    14:19:44   69.502667  \n",
       "\n",
       "[5 rows x 3087 columns]"
      ]
     },
     "execution_count": 16,
     "metadata": {},
     "output_type": "execute_result"
    }
   ],
   "source": [
    "# Load the NSFG dataset\n",
    "resp = nsfg.ReadFemResp()\n",
    "resp.head()"
   ]
  },
  {
   "cell_type": "code",
   "execution_count": 17,
   "id": "6ed9c0a1",
   "metadata": {},
   "outputs": [],
   "source": [
    "# Compute the PMF of the number of children per household\n",
    "pmf = thinkstats2.Pmf(resp.numkdhh, label = 'Actual')"
   ]
  },
  {
   "cell_type": "code",
   "execution_count": 18,
   "id": "3afaf987",
   "metadata": {},
   "outputs": [],
   "source": [
    "# Compute the mean using PmfMean and Mean methods\n",
    "mean_pmf = PmfMean(pmf)\n",
    "mean_method = pmf.Mean()"
   ]
  },
  {
   "cell_type": "code",
   "execution_count": 19,
   "id": "09bda3ee",
   "metadata": {},
   "outputs": [],
   "source": [
    "# Compute the variance using PmfVar and Var methods\n",
    "var_pmf = PmfVar(pmf)\n",
    "var_method = pmf.Var()"
   ]
  },
  {
   "cell_type": "code",
   "execution_count": 20,
   "id": "6c9dbfdd",
   "metadata": {},
   "outputs": [
    {
     "name": "stdout",
     "output_type": "stream",
     "text": [
      "Mean (PmfMean): 1.024205155043831\n",
      "Mean (Mean method): 1.024205155043831\n",
      "Variance (PmfVar): 1.4128643263531195\n",
      "Variance (Var method): 1.4128643263531195\n"
     ]
    }
   ],
   "source": [
    "# Print the results\n",
    "print(\"Mean (PmfMean):\", mean_pmf)\n",
    "print(\"Mean (Mean method):\", mean_method)\n",
    "print(\"Variance (PmfVar):\", var_pmf)\n",
    "print(\"Variance (Var method):\", var_method)\n"
   ]
  },
  {
   "cell_type": "markdown",
   "id": "bdb99f42",
   "metadata": {},
   "source": [
    "The mean value per household, computed using both the PmfMean function and the Mean method provided by the Pmf class, is approximately 1.0242. This means, on average, households have slightly more than one child (In the dataset). \n",
    "\n",
    "The variance per household, calculated using both the PmfVar function and the Var method, is approximately 1.4129. This means a relatively high spread of children across households, with some households having more children than others, leading to a larger variance"
   ]
  },
  {
   "cell_type": "markdown",
   "id": "45eaafaa",
   "metadata": {},
   "source": [
    "## Exercises 4-1"
   ]
  },
  {
   "cell_type": "code",
   "execution_count": 21,
   "id": "b09a603c",
   "metadata": {},
   "outputs": [],
   "source": [
    "# Import needed libraries thinkstats2 and nsfg\n",
    "import thinkstats2\n",
    "import nsfg"
   ]
  },
  {
   "cell_type": "markdown",
   "id": "bb5c274e",
   "metadata": {},
   "source": [
    "The percentilerank function takes birth weight and the resp (NSFG dataset as input). We select birthorder == 1: first babies. Handling cases where the given weight is outside the range of recorded birth weights for first babies min and max, ensuring that the percentile rank is properly assigned."
   ]
  },
  {
   "cell_type": "code",
   "execution_count": 31,
   "id": "e456dcfa",
   "metadata": {},
   "outputs": [],
   "source": [
    "def percentilerank(weight, resp):\n",
    "    \"\"\"Compute the percentile rank of a birth weight for first babies in the given dataset.\"\"\"\n",
    "    first_babies = resp[resp.birthord == 1]\n",
    "\n",
    "    if weight < first_babies.totalwgt_lb.min():\n",
    "        percentile_rank = 0.0\n",
    "    elif weight > first_babies.totalwgt_lb.max():\n",
    "        percentile_rank = 1.0\n",
    "    else:\n",
    "        cdf = thinkstats2.Cdf(first_babies.totalwgt_lb)\n",
    "        percentile_rank = cdf.PercentileRank(weight)\n",
    "\n",
    "    return percentile_rank"
   ]
  },
  {
   "cell_type": "code",
   "execution_count": 32,
   "id": "dedc7af7",
   "metadata": {},
   "outputs": [],
   "source": [
    "# Load the NSFG dataset\n",
    "resp = nsfg.ReadFemPreg()"
   ]
  },
  {
   "cell_type": "code",
   "execution_count": 33,
   "id": "c052fef0",
   "metadata": {},
   "outputs": [],
   "source": [
    "# Example: Birth weight of 8.1 pounds\n",
    "birth_weight = 8.1"
   ]
  },
  {
   "cell_type": "code",
   "execution_count": 34,
   "id": "30f7cd8e",
   "metadata": {},
   "outputs": [],
   "source": [
    "# Compute the percentile rank of the birth weight\n",
    "percentile_rank = percentilerank(birth_weight, resp)"
   ]
  },
  {
   "cell_type": "code",
   "execution_count": 35,
   "id": "64a85ab0",
   "metadata": {},
   "outputs": [
    {
     "name": "stdout",
     "output_type": "stream",
     "text": [
      "Birth Weight Percentile Rank: 76.89663075865231\n"
     ]
    }
   ],
   "source": [
    "print(\"Birth Weight Percentile Rank:\", percentile_rank)\n",
    "if percentile_rank >= 90:\n",
    "    print(\"Apologize to your mother!\")"
   ]
  },
  {
   "cell_type": "markdown",
   "id": "09fd4684",
   "metadata": {},
   "source": [
    "## Exercises 4-2"
   ]
  },
  {
   "cell_type": "code",
   "execution_count": 36,
   "id": "5e0466b6",
   "metadata": {},
   "outputs": [],
   "source": [
    "# Import needed libraries numpy, thinkstats2 and thinkplot\n",
    "import numpy as np\n",
    "import thinkstats2\n",
    "import thinkplot"
   ]
  },
  {
   "cell_type": "code",
   "execution_count": 37,
   "id": "4b2b08b1",
   "metadata": {},
   "outputs": [],
   "source": [
    "# Generate 1000 random numbers\n",
    "random_numbers = np.random.random(1000)\n",
    "#random_numbers"
   ]
  },
  {
   "cell_type": "code",
   "execution_count": 38,
   "id": "d3b7aabc",
   "metadata": {},
   "outputs": [],
   "source": [
    "# Calculate PMF\n",
    "pmf = thinkstats2.Pmf(random_numbers)"
   ]
  },
  {
   "cell_type": "code",
   "execution_count": 39,
   "id": "48b9eb1f",
   "metadata": {},
   "outputs": [
    {
     "data": {
      "image/png": "[encoded data removed]",
      "text/plain": [
       "<Figure size 640x480 with 1 Axes>"
      ]
     },
     "metadata": {},
     "output_type": "display_data"
    },
    {
     "data": {
      "text/plain": [
       "<Figure size 800x600 with 0 Axes>"
      ]
     },
     "metadata": {},
     "output_type": "display_data"
    }
   ],
   "source": [
    "# Plot PMF, applying the line width for better looking plot\n",
    "thinkplot.Pmf(pmf, linewidth=0.1)\n",
    "thinkplot.Config(xlabel='Random Numbers', ylabel='PMF', title='PMF of Random Numbers')\n",
    "thinkplot.show()"
   ]
  },
  {
   "cell_type": "code",
   "execution_count": 40,
   "id": "cd351057",
   "metadata": {},
   "outputs": [],
   "source": [
    "# Calculate CDF\n",
    "cdf = thinkstats2.Cdf(random_numbers)"
   ]
  },
  {
   "cell_type": "code",
   "execution_count": 41,
   "id": "d0ec7e9d",
   "metadata": {},
   "outputs": [
    {
     "data": {
      "image/png": "[encoded data removed]",
      "text/plain": [
       "<Figure size 640x480 with 1 Axes>"
      ]
     },
     "metadata": {},
     "output_type": "display_data"
    },
    {
     "data": {
      "text/plain": [
       "<Figure size 800x600 with 0 Axes>"
      ]
     },
     "metadata": {},
     "output_type": "display_data"
    }
   ],
   "source": [
    "# Plot CDF, applying the line width for better looking plot, trying out the color options in the plot\n",
    "thinkplot.Cdf(cdf, linewidth=1, color='green')\n",
    "thinkplot.Config(xlabel='Random Numbers', ylabel='CDF', title='CDF of Random Numbers')\n",
    "thinkplot.show()"
   ]
  },
  {
   "cell_type": "markdown",
   "id": "0c850e3a",
   "metadata": {},
   "source": [
    "While numpy.random.random is designed to generate uniformly distributed random numbers between 0 and 1, the observed PMF and CDF may deviate slightly from perfect uniformity due to the finite sample size"
   ]
  },
  {
   "cell_type": "code",
   "execution_count": null,
   "id": "2dd416ec",
   "metadata": {},
   "outputs": [],
   "source": []
  }
 ],
 "metadata": {
  "kernelspec": {
   "display_name": "Python 3 (ipykernel)",
   "language": "python",
   "name": "python3"
  },
  "language_info": {
   "codemirror_mode": {
    "name": "ipython",
    "version": 3
   },
   "file_extension": ".py",
   "mimetype": "text/x-python",
   "name": "python",
   "nbconvert_exporter": "python",
   "pygments_lexer": "ipython3",
   "version": "3.10.9"
  }
 },
 "nbformat": 4,
 "nbformat_minor": 5
}
