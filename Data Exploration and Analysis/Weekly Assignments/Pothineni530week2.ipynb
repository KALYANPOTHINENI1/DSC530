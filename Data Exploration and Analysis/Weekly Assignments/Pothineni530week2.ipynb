{
 "cells": [
  {
   "cell_type": "markdown",
   "metadata": {},
   "source": [
    "## Exercise - 2.1 Preparing for Exploratory Data Analysis"
   ]
  },
  {
   "cell_type": "code",
   "execution_count": 2,
   "metadata": {},
   "outputs": [
    {
     "name": "stdout",
     "output_type": "stream",
     "text": [
      "Hello World! My name is Kalyan Pothineni\n"
     ]
    }
   ],
   "source": [
    "# Displaying the text\n",
    "print(\"Hello World! My name is Kalyan Pothineni\")"
   ]
  },
  {
   "cell_type": "code",
   "execution_count": 3,
   "metadata": {},
   "outputs": [
    {
     "name": "stdout",
     "output_type": "stream",
     "text": [
      "The sum of 5 and 3 is 8\n"
     ]
    }
   ],
   "source": [
    "# Adding two numbers together\n",
    "x = 5\n",
    "y = 3\n",
    "sum = x + y\n",
    "print(\"The sum of\", x, \"and\", y, \"is\", sum)\n"
   ]
  },
  {
   "cell_type": "code",
   "execution_count": 4,
   "metadata": {},
   "outputs": [
    {
     "name": "stdout",
     "output_type": "stream",
     "text": [
      "The subtraction of 10 from 4 is 6\n"
     ]
    }
   ],
   "source": [
    "# Subtracting a number from another number\n",
    "a = 10\n",
    "b = 4\n",
    "subtract = a - b\n",
    "print(\"The subtraction of\", a, \"from\", b, \"is\", subtract)\n"
   ]
  },
  {
   "cell_type": "code",
   "execution_count": 2,
   "metadata": {},
   "outputs": [
    {
     "name": "stdout",
     "output_type": "stream",
     "text": [
      "The multiplication of 7 and 2 is 14\n"
     ]
    }
   ],
   "source": [
    "# Multiplying two numbers\n",
    "m1 = 7\n",
    "m2 = 2\n",
    "muliply = m1 * m2\n",
    "print(\"The multiplication of\", m1, \"and\", m2, \"is\", muliply)\n"
   ]
  },
  {
   "cell_type": "code",
   "execution_count": 5,
   "metadata": {},
   "outputs": [
    {
     "name": "stdout",
     "output_type": "stream",
     "text": [
      "The division of 16 by 5 is 3.2\n"
     ]
    }
   ],
   "source": [
    "# Dividing between two numbers\n",
    "s = 16\n",
    "d = 5\n",
    "divide = s / d\n",
    "print(\"The division of\", s, \"by\", d, \"is\", divide)\n"
   ]
  },
  {
   "cell_type": "code",
   "execution_count": 9,
   "metadata": {},
   "outputs": [
    {
     "name": "stdout",
     "output_type": "stream",
     "text": [
      "Concatenated string: car dog\n"
     ]
    }
   ],
   "source": [
    "# Concatenating two strings\n",
    "str1 = \"car\"\n",
    "str2 = \"dog\"\n",
    "concat = str1 + \" \" + str2\n",
    "print(\"Concatenated string:\", concat)"
   ]
  },
  {
   "cell_type": "code",
   "execution_count": 12,
   "metadata": {},
   "outputs": [
    {
     "name": "stdout",
     "output_type": "stream",
     "text": [
      "Original list: [1, 'car', 9.865, 'dog']\n"
     ]
    }
   ],
   "source": [
    "# Creating a list of 4 items\n",
    "list = [1, \"car\", 9.865, \"dog\"]\n",
    "print(\"Original list:\", list)"
   ]
  },
  {
   "cell_type": "code",
   "execution_count": 13,
   "metadata": {},
   "outputs": [
    {
     "name": "stdout",
     "output_type": "stream",
     "text": [
      "Updated list: [1, 'car', 9.865, 'dog', 'Elephant']\n"
     ]
    }
   ],
   "source": [
    "# Appending an item to the list\n",
    "list.append(\"Elephant\")\n",
    "print(\"Updated list:\", list)"
   ]
  },
  {
   "cell_type": "code",
   "execution_count": 14,
   "metadata": {},
   "outputs": [
    {
     "name": "stdout",
     "output_type": "stream",
     "text": [
      "Tuple: ('car', 9, 'dog', 12.52)\n"
     ]
    }
   ],
   "source": [
    "# Creating a tuple with 4 items\n",
    "tuple = (\"car\", 9, \"dog\", 12.52)\n",
    "print(\"Tuple:\", tuple)"
   ]
  },
  {
   "cell_type": "markdown",
   "metadata": {},
   "source": []
  }
 ],
 "metadata": {
  "kernelspec": {
   "display_name": "Python 3",
   "language": "python",
   "name": "python3"
  },
  "language_info": {
   "codemirror_mode": {
    "name": "ipython",
    "version": 3
   },
   "file_extension": ".py",
   "mimetype": "text/x-python",
   "name": "python",
   "nbconvert_exporter": "python",
   "pygments_lexer": "ipython3",
   "version": "3.8.5"
  }
 },
 "nbformat": 4,
 "nbformat_minor": 4
}
